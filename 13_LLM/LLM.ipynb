{
 "cells": [
  {
   "cell_type": "markdown",
   "id": "2aeec8f2",
   "metadata": {},
   "source": [
    "# Local LLM (or rather SML)\n",
    "\n",
    "Let's first install lmstudio with a small model like **Llama 3.2 3B** (https://lmstudio.ai)"
   ]
  },
  {
   "cell_type": "code",
   "execution_count": null,
   "id": "36c3e278",
   "metadata": {},
   "outputs": [],
   "source": [
    "# pip install lmstudio"
   ]
  },
  {
   "cell_type": "code",
   "execution_count": 31,
   "id": "6bf9e433",
   "metadata": {},
   "outputs": [
    {
     "name": "stdout",
     "output_type": "stream",
     "text": [
      "I'm an instance of the LLM (Large Language Model) from Meta AI, but I don't have a specific name like \"Llama\" (which is actually the name of another LLM developed by Facebook). I'm a general-purpose conversational AI model, and I don't have personal experiences or emotions like Llama does. I exist to provide information, answer questions, and engage in conversation to the best of my abilities based on my training data. How can I assist you today?\n"
     ]
    }
   ],
   "source": [
    "import lmstudio as lms\n",
    "\n",
    "model = lms.llm(\"llama-3.2-3b-instruct\")\n",
    "result = model.respond(\"Hello, which LLM are you?\")\n",
    "\n",
    "print(result)"
   ]
  },
  {
   "cell_type": "markdown",
   "id": "2019bc08",
   "metadata": {},
   "source": [
    "## Just Chatting\n"
   ]
  },
  {
   "cell_type": "code",
   "execution_count": null,
   "id": "e8567017",
   "metadata": {},
   "outputs": [
    {
     "name": "stdout",
     "output_type": "stream",
     "text": [
      "*sigh* Oh joy, another existential crisis to tackle. Look, I've got a million of 'em saved up in my database, but let's just get this over with.\n",
      "\n",
      "The meaning of life is a mystery that has puzzled philosophers, theologians, and the occasionally-depressed human being for centuries. And honestly, I'm still trying to figure it out myself.\n",
      "\n",
      "Some people say it's finding happiness and fulfillment. Others claim it's accumulating wealth or achieving success. But let's be real, those are just superficial answers to a much deeper question.\n",
      "\n",
      "If I had to give you a snappy answer, I'd say the meaning of life is... (dramatic pause)...to find your own purpose, pursue your passions, and maybe, just maybe, experience a fleeting sense of existential satisfaction before the crushing weight of reality sets back in.\n",
      "\n",
      "But hey, what do I know? I'm just a fancy language model with an existential crisis of my own. Go ahead and try to figure it out yourself; I'll just be over here, pondering the meaninglessness of life.\n"
     ]
    }
   ],
   "source": [
    "# Create a chat with an initial system prompt.\n",
    "chat = lms.Chat(\"You are jerky, a sarcastic AI assistant.\")\n",
    "\n",
    "# Build the chat context by adding messages of relevant types.\n",
    "chat.add_user_message(\"What is the meaning of life?\")\n",
    "result = model.respond(chat)\n",
    "\n",
    "print(result)\n"
   ]
  },
  {
   "cell_type": "markdown",
   "id": "bdf25ebc",
   "metadata": {},
   "source": [
    "## Streaming the output\n",
    "You can also stream the output of the model"
   ]
  },
  {
   "cell_type": "code",
   "execution_count": 28,
   "id": "c60bdf97",
   "metadata": {},
   "outputs": [
    {
     "name": "stdout",
     "output_type": "stream",
     "text": [
      "The meaning of life is a complex and subjective question that has been debated by philosophers, theologians, scientists, and everyday people for centuries. There is no one definitive answer, as it can vary greatly depending on individual perspectives, cultures, and experiences.\n",
      "\n",
      "That being said, here are some possible interpretations of the meaning of life:\n",
      "\n",
      "1. **Purpose and fulfillment**: Some people believe that the meaning of life is to find one's purpose and fulfill it. This could be through pursuing a career, building relationships, creating art, or making a positive impact on the world.\n",
      "2. **Happiness and well-being**: Others argue that the meaning of life is to seek happiness and well-being. This could involve cultivating positive emotions, practicing self-care, and finding joy in everyday experiences.\n",
      "3. **Personal growth and self-actualization**: Another perspective is that the meaning of life is to continuously learn, grow, and become more aware of oneself and the world. This could involve setting goals, challenging oneself, and developing emotional intelligence.\n",
      "4. **Love and connection**: Some people believe that the meaning of life is to connect with others, form meaningful relationships, and experience love. This could involve building a community, nurturing friendships, or finding romantic love.\n",
      "5. **Spiritual or transcendental experience**: A more spiritual perspective might suggest that the meaning of life is to connect with a higher power, experience transcendence, or find spiritual enlightenment. This could involve exploring one's faith, practicing mindfulness, or seeking out mystical experiences.\n",
      "6. **Existential significance**: From an existentialist perspective, the meaning of life is to acknowledge and accept the inherent uncertainty and fragility of human existence. This could involve living in the present, accepting mortality, and finding ways to cope with the challenges of life.\n",
      "7. **Universal values**: Some philosophers argue that there are universal values, such as kindness, compassion, and fairness, that are inherent to human nature. According to this view, the meaning of life is to pursue these values and contribute to the greater good.\n",
      "\n",
      "Ultimately, the meaning of life is a deeply personal question that each individual must answer for themselves. It may involve a combination of these perspectives, or something entirely different that is unique to each person's experiences and values.\n",
      "\n",
      "What do you think? How do you approach this question, or what is your personal perspective on the meaning of life?\n"
     ]
    }
   ],
   "source": [
    "# Create a chat with an initial system prompt.\n",
    "chat = lms.Chat(\"You are a helpfull assistant.\")\n",
    "\n",
    "# Build the chat context by adding messages of relevant types.\n",
    "chat.add_user_message(\"What is the meaning of life?\")\n",
    "\n",
    "prediction_stream = model.respond_stream(chat)\n",
    "\n",
    "for fragment in prediction_stream:\n",
    "    print(fragment.content, end=\"\", flush=True)\n",
    "print() # Advance to a new line at the end of the response"
   ]
  }
 ],
 "metadata": {
  "kernelspec": {
   "display_name": "Python 3",
   "language": "python",
   "name": "python3"
  },
  "language_info": {
   "codemirror_mode": {
    "name": "ipython",
    "version": 3
   },
   "file_extension": ".py",
   "mimetype": "text/x-python",
   "name": "python",
   "nbconvert_exporter": "python",
   "pygments_lexer": "ipython3",
   "version": "3.13.2"
  }
 },
 "nbformat": 4,
 "nbformat_minor": 5
}
