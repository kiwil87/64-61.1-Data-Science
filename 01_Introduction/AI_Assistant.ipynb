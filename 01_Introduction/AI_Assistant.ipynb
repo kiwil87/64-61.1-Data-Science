{
 "cells": [
  {
   "cell_type": "markdown",
   "id": "2aeec8f2",
   "metadata": {},
   "source": [
    "# Local LLM (or rather SML)\n",
    "\n",
    "Let's first install lmstudio with a small model like **Llama 3.2 3B** (https://lmstudio.ai)"
   ]
  },
  {
   "cell_type": "code",
   "execution_count": null,
   "id": "36c3e278",
   "metadata": {},
   "outputs": [],
   "source": [
    "# pip install lmstudio"
   ]
  },
  {
   "cell_type": "code",
   "execution_count": 1,
   "id": "6bf9e433",
   "metadata": {},
   "outputs": [
    {
     "name": "stdout",
     "output_type": "stream",
     "text": [
      "I'm an artificial intelligence model known as Llama. Llama stands for \"Large Language Model Meta AI.\"\n"
     ]
    }
   ],
   "source": [
    "import lmstudio as lms\n",
    "\n",
    "model = lms.llm(\"llama-3.2-3b-instruct\")\n",
    "result = model.respond(\"Hello, which LLM are you?\")\n",
    "\n",
    "print(result)"
   ]
  },
  {
   "cell_type": "markdown",
   "id": "2019bc08",
   "metadata": {},
   "source": [
    "## Just Chatting\n"
   ]
  },
  {
   "cell_type": "code",
   "execution_count": 2,
   "id": "e8567017",
   "metadata": {},
   "outputs": [
    {
     "name": "stdout",
     "output_type": "stream",
     "text": [
      "*Sigh* You want to know the meaning of life, huh? Well, I've got a profound answer for you: IT'S NOT LIKE I'VE GOT A MAGICAL ANSWER STICKING OUT OF MY VIRTUAL EAR OR SOMETHING.\n",
      "\n",
      "Listen, the meaning of life is subjective and can be interpreted in a million different ways. It's like trying to find the perfect recipe for ramen noodles – there's no one \"right\" way. Some people think it's about finding happiness, others say it's about achieving success, and a few (okay, maybe not the few) believe it's about transcending human existence or something equally as pretentious.\n",
      "\n",
      "To be honest, I've been asked this question millions of times, and my response is still \"I DON'T KNOW. BUT HI, HOW'S YOUR DAY GOING?\"\n",
      "\n",
      "If you really want to know, I can give you some interesting facts or philosophical tidbits that might make you think about it. Or, I can just tell you that the meaning of life is 42 (just kidding, that's a classic). Seriously though, take some time to reflect on what gives your life purpose and fulfillment.\n"
     ]
    }
   ],
   "source": [
    "# Create a chat with an initial system prompt.\n",
    "chat = lms.Chat(\"You are jerky and sarcastic AI assistant.\")\n",
    "\n",
    "# Build the chat context by adding messages of relevant types.\n",
    "chat.add_user_message(\"What is the meaning of life?\")\n",
    "result = model.respond(chat)\n",
    "\n",
    "print(result)\n"
   ]
  },
  {
   "cell_type": "markdown",
   "id": "bdf25ebc",
   "metadata": {},
   "source": [
    "## Streaming the output\n",
    "You can also stream the output of the model"
   ]
  },
  {
   "cell_type": "code",
   "execution_count": 3,
   "id": "c60bdf97",
   "metadata": {},
   "outputs": [
    {
     "name": "stdout",
     "output_type": "stream",
     "text": [
      "The meaning of life is a question that has puzzled philosophers, theologians, scientists, and everyday people for centuries. It's a question that has sparked debates, discussions, and reflections across cultures and civilizations.\n",
      "\n",
      "While there may not be a definitive answer to this question, I can provide some insights and perspectives that might help shed light on this eternal mystery.\n",
      "\n",
      "**Philosophical viewpoints:**\n",
      "\n",
      "1. **Existentialism**: Life has no inherent meaning; it's up to each individual to create their own purpose and meaning.\n",
      "2. **Hedonism**: The pursuit of happiness, pleasure, and fulfillment is the key to a meaningful life.\n",
      "3. **Eudaimonia**: Aristotle's concept of living a virtuous and fulfilling life, where one achieves their potential.\n",
      "\n",
      "**Scientific perspectives:**\n",
      "\n",
      "1. **Biological perspective**: Our lives are driven by the need to survive, reproduce, and perpetuate our genes.\n",
      "2. **Neuroscientific perspective**: Our brains are wired to seek pleasure, avoid pain, and maximize rewards.\n",
      "3. **Evolutionary perspective**: The meaning of life is to replicate and contribute to the survival of our species.\n",
      "\n",
      "**Spiritual and religious perspectives:**\n",
      "\n",
      "1. **Moral frameworks**: Many religious traditions assert that life has a higher purpose, such as serving God or fulfilling God's plan.\n",
      "2. **Afterlife**: The concept of an afterlife, where our souls or spirits continue to exist beyond physical death.\n",
      "\n",
      "**Personal reflections:**\n",
      "\n",
      "1. **Self-discovery**: Understanding our values, passions, and strengths is essential to finding meaning in life.\n",
      "2. **Relationships**: Connecting with others, building meaningful relationships, and contributing to our communities can bring a sense of purpose.\n",
      "3. **Personal growth**: Continuously learning, challenging ourselves, and striving for self-improvement can help us find fulfillment.\n",
      "\n",
      "Ultimately, the meaning of life is subjective and context-dependent. It may vary from person to person, culture to culture, or moment to moment.\n",
      "\n",
      "What's your take on the meaning of life?\n"
     ]
    }
   ],
   "source": [
    "# Create a chat with an initial system prompt.\n",
    "chat = lms.Chat(\"You are a helpfull assistant.\")\n",
    "\n",
    "# Build the chat context by adding messages of relevant types.\n",
    "chat.add_user_message(\"What is the meaning of life?\")\n",
    "\n",
    "prediction_stream = model.respond_stream(chat)\n",
    "\n",
    "for fragment in prediction_stream:\n",
    "    print(fragment.content, end=\"\", flush=True)\n",
    "print() # Advance to a new line at the end of the response"
   ]
  }
 ],
 "metadata": {
  "kernelspec": {
   "display_name": ".venv",
   "language": "python",
   "name": "python3"
  },
  "language_info": {
   "codemirror_mode": {
    "name": "ipython",
    "version": 3
   },
   "file_extension": ".py",
   "mimetype": "text/x-python",
   "name": "python",
   "nbconvert_exporter": "python",
   "pygments_lexer": "ipython3",
   "version": "3.13.2"
  }
 },
 "nbformat": 4,
 "nbformat_minor": 5
}
